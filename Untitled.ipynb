{
 "cells": [
  {
   "cell_type": "code",
   "execution_count": 1,
   "id": "576f2dab-fe09-4404-998b-fe1380602860",
   "metadata": {},
   "outputs": [
    {
     "name": "stdout",
     "output_type": "stream",
     "text": [
      "hello world\n"
     ]
    }
   ],
   "source": [
    "print(\"hello world\")"
   ]
  },
  {
   "cell_type": "markdown",
   "id": "2bbfabff-6d8d-44b6-8775-2ab30b49cdfb",
   "metadata": {},
   "source": [
    "## i know about it"
   ]
  },
  {
   "cell_type": "code",
   "execution_count": null,
   "id": "354cac07-18b1-4ecf-a4ca-85c02b3f46b8",
   "metadata": {},
   "outputs": [],
   "source": []
  }
 ],
 "metadata": {
  "kernelspec": {
   "display_name": "Python 3 (ipykernel)",
   "language": "python",
   "name": "python3"
  },
  "language_info": {
   "codemirror_mode": {
    "name": "ipython",
    "version": 3
   },
   "file_extension": ".py",
   "mimetype": "text/x-python",
   "name": "python",
   "nbconvert_exporter": "python",
   "pygments_lexer": "ipython3",
   "version": "3.12.4"
  }
 },
 "nbformat": 4,
 "nbformat_minor": 5
}
